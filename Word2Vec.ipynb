{
 "cells": [
  {
   "cell_type": "code",
   "execution_count": 1,
   "metadata": {},
   "outputs": [],
   "source": [
    "from gensim.models import Word2Vec\n",
    "import pandas as pd\n",
    "from sklearn.metrics.pairwise import cosine_similarity"
   ]
  },
  {
   "cell_type": "code",
   "execution_count": 2,
   "metadata": {
    "scrolled": true
   },
   "outputs": [
    {
     "data": {
      "text/html": [
       "<div>\n",
       "<style scoped>\n",
       "    .dataframe tbody tr th:only-of-type {\n",
       "        vertical-align: middle;\n",
       "    }\n",
       "\n",
       "    .dataframe tbody tr th {\n",
       "        vertical-align: top;\n",
       "    }\n",
       "\n",
       "    .dataframe thead th {\n",
       "        text-align: right;\n",
       "    }\n",
       "</style>\n",
       "<table border=\"1\" class=\"dataframe\">\n",
       "  <thead>\n",
       "    <tr style=\"text-align: right;\">\n",
       "      <th></th>\n",
       "      <th>Unnamed: 0</th>\n",
       "      <th>Filenumber</th>\n",
       "      <th>Question</th>\n",
       "      <th>Topic</th>\n",
       "    </tr>\n",
       "  </thead>\n",
       "  <tbody>\n",
       "    <tr>\n",
       "      <th>0</th>\n",
       "      <td>0</td>\n",
       "      <td>694</td>\n",
       "      <td>एडस बीमारी क्या है ?</td>\n",
       "      <td>STDs</td>\n",
       "    </tr>\n",
       "    <tr>\n",
       "      <th>1</th>\n",
       "      <td>1</td>\n",
       "      <td>1112</td>\n",
       "      <td>सेक्स की बात करने से लिंग खड़ा क्यों हो जाता है</td>\n",
       "      <td>Other sexual health issues</td>\n",
       "    </tr>\n",
       "    <tr>\n",
       "      <th>2</th>\n",
       "      <td>2</td>\n",
       "      <td>5374</td>\n",
       "      <td>हस्तमैथुन करने के बाद लिंग में जलन होता है</td>\n",
       "      <td>Masturbation</td>\n",
       "    </tr>\n",
       "    <tr>\n",
       "      <th>3</th>\n",
       "      <td>3</td>\n",
       "      <td>3705</td>\n",
       "      <td>महिलाओं के योनि और स्तन के बारे में बताएँ</td>\n",
       "      <td>Other sexual health issues</td>\n",
       "    </tr>\n",
       "    <tr>\n",
       "      <th>4</th>\n",
       "      <td>4</td>\n",
       "      <td>3063</td>\n",
       "      <td>सेक्स के दौरान पत्नी चिल्लाती क्यों है</td>\n",
       "      <td>\\N</td>\n",
       "    </tr>\n",
       "  </tbody>\n",
       "</table>\n",
       "</div>"
      ],
      "text/plain": [
       "   Unnamed: 0  Filenumber                                        Question  \\\n",
       "0           0         694                            एडस बीमारी क्या है ?   \n",
       "1           1        1112  सेक्स की बात करने से लिंग खड़ा क्यों हो जाता है   \n",
       "2           2        5374      हस्तमैथुन करने के बाद लिंग में जलन होता है   \n",
       "3           3        3705       महिलाओं के योनि और स्तन के बारे में बताएँ   \n",
       "4           4        3063          सेक्स के दौरान पत्नी चिल्लाती क्यों है   \n",
       "\n",
       "                        Topic  \n",
       "0                        STDs  \n",
       "1  Other sexual health issues  \n",
       "2                Masturbation  \n",
       "3  Other sexual health issues  \n",
       "4                          \\N  "
      ]
     },
     "execution_count": 2,
     "metadata": {},
     "output_type": "execute_result"
    }
   ],
   "source": [
    "df = pd.read_csv('questions_KU.csv')\n",
    "df.dropna(inplace=True)\n",
    "df.head()"
   ]
  },
  {
   "cell_type": "code",
   "execution_count": 3,
   "metadata": {},
   "outputs": [],
   "source": [
    "def cleaning(data):\n",
    "    for i in range(0, len(data)):\n",
    "        temp = \"\"\n",
    "        for j in range(0, len(data[i])):\n",
    "            if(data[i][j] != ',' and data[i][j] != ')' and data[i][j] != '(' and data[i][j] != '\"' and data[i][j] != ':' and data[i][j] != '%' and not(data[i][j] >= '0' and data[i][j] <= '9') and data[i][j] != '-' and data[i][j] != '/' and not(data[i][j] >= 'a' and data[i][j] <= 'z') and not(data[i][j] >= 'A'  and data[i][j] <= 'Z') and data[i][j] != '/' and data[i][j] != '-'):\n",
    "                temp=temp+data[i][j]\n",
    "        data[i]=temp\n",
    "    return data"
   ]
  },
  {
   "cell_type": "code",
   "execution_count": 4,
   "metadata": {},
   "outputs": [],
   "source": [
    "def stopwords_removal(data):\n",
    "    stop_file=open(\"stopwords-hi.txt\",encoding='UTF-8').read()\n",
    "    stopwords=stop_file.split()\n",
    "    dictionary={}\n",
    "    for word in stopwords:\n",
    "        dictionary[word]=1\n",
    "    for i in  range(len(data)):\n",
    "        temp = \"\"\n",
    "        words = data[i].split(\" \")\n",
    "        for j in words:\n",
    "            if j == '?':\n",
    "                continue\n",
    "            elif j not in dictionary:\n",
    "                temp += (j + \" \")\n",
    "        data[i]=temp\n",
    "    return data"
   ]
  },
  {
   "cell_type": "code",
   "execution_count": 5,
   "metadata": {},
   "outputs": [],
   "source": [
    "def tokenization(data):\n",
    "    corpus = []\n",
    "    for questions in data:\n",
    "        corpus.append(questions.split())\n",
    "    return corpus"
   ]
  },
  {
   "cell_type": "code",
   "execution_count": 6,
   "metadata": {},
   "outputs": [
    {
     "name": "stdout",
     "output_type": "stream",
     "text": [
      "लिंग डालने के लिए कितनी ताकत की जरुरत होती है\n",
      "लिंग डालने कितनी ताकत जरुरत \n",
      "6658\n"
     ]
    }
   ],
   "source": [
    "data_ques = df['Question']\n",
    "data = data_ques.to_list()\n",
    "print(data[130])\n",
    "clean_data = cleaning(data)\n",
    "preprocessed_data = stopwords_removal(clean_data)\n",
    "print(preprocessed_data[130])\n",
    "corpus = tokenization(preprocessed_data)\n",
    "print(len(corpus))"
   ]
  },
  {
   "cell_type": "markdown",
   "metadata": {},
   "source": [
    "## 1) Word2Vec trained on Questions only"
   ]
  },
  {
   "cell_type": "code",
   "execution_count": 7,
   "metadata": {},
   "outputs": [],
   "source": [
    "model = Word2Vec(corpus, size = 300, window = 5, min_count = 2, negative = 5)"
   ]
  },
  {
   "cell_type": "markdown",
   "metadata": {},
   "source": [
    "## 2) Word2Vec trained on Answers and Questions"
   ]
  },
  {
   "cell_type": "code",
   "execution_count": 17,
   "metadata": {},
   "outputs": [],
   "source": [
    "ans = pd.read_csv('answers_KU.csv')\n",
    "ans_np = ans['Answer']\n",
    "ans_list = ans_np.to_list()\n",
    "clean_ans = cleaning(ans_list)\n",
    "preprocessed_ans = stopwords_removal(clean_ans)\n",
    "corpus += tokenization(preprocessed_ans)\n",
    "model = Word2Vec(corpus, size = 300, window = 5, min_count = 2, negative = 5)"
   ]
  },
  {
   "cell_type": "markdown",
   "metadata": {},
   "source": [
    "## 3) Word2Vec trained on IITB Corpus"
   ]
  },
  {
   "cell_type": "code",
   "execution_count": 29,
   "metadata": {},
   "outputs": [],
   "source": [
    "with open('monolingual.hi') as f:\n",
    "    head = [next(f) for x in range(10000)]"
   ]
  },
  {
   "cell_type": "code",
   "execution_count": 30,
   "metadata": {},
   "outputs": [],
   "source": [
    "sen = []\n",
    "for line in head:\n",
    "    words = line.split()\n",
    "    sen.append(words)"
   ]
  },
  {
   "cell_type": "code",
   "execution_count": 31,
   "metadata": {},
   "outputs": [],
   "source": [
    "for l in sen:\n",
    "    corpus += l"
   ]
  },
  {
   "cell_type": "markdown",
   "metadata": {},
   "source": [
    "## Training the model (Same for all)"
   ]
  },
  {
   "cell_type": "code",
   "execution_count": 32,
   "metadata": {},
   "outputs": [],
   "source": [
    "def vectors(data):\n",
    "    global word_embeddings\n",
    "    word_embeddings = []\n",
    "\n",
    "    for question in data:\n",
    "        avgword2vec = None\n",
    "        count = 0\n",
    "        for word in question.split():\n",
    "            if word in model.wv.vocab:\n",
    "                count += 1\n",
    "                if avgword2vec is None:\n",
    "                    avgword2vec = model[word]\n",
    "                else:\n",
    "                    avgword2vec = avgword2vec + model[word]\n",
    "                \n",
    "        if avgword2vec is not None:\n",
    "            avgword2vec = avgword2vec / count\n",
    "        \n",
    "            word_embeddings.append(avgword2vec)"
   ]
  },
  {
   "cell_type": "code",
   "execution_count": 33,
   "metadata": {},
   "outputs": [
    {
     "name": "stderr",
     "output_type": "stream",
     "text": [
      "/Library/Frameworks/Python.framework/Versions/3.7/lib/python3.7/site-packages/ipykernel_launcher.py:12: DeprecationWarning: Call to deprecated `__getitem__` (Method will be removed in 4.0.0, use self.wv.__getitem__() instead).\n",
      "  if sys.path[0] == '':\n",
      "/Library/Frameworks/Python.framework/Versions/3.7/lib/python3.7/site-packages/ipykernel_launcher.py:14: DeprecationWarning: Call to deprecated `__getitem__` (Method will be removed in 4.0.0, use self.wv.__getitem__() instead).\n",
      "  \n"
     ]
    }
   ],
   "source": [
    "vectors(preprocessed_data)"
   ]
  },
  {
   "cell_type": "code",
   "execution_count": 34,
   "metadata": {},
   "outputs": [
    {
     "data": {
      "text/plain": [
       "[('क्षमता', 0.9922375082969666),\n",
       " ('मीडिया', 0.9921690225601196),\n",
       " ('बनाया', 0.9921455979347229),\n",
       " ('देखे', 0.9921245574951172),\n",
       " ('गर्भ', 0.9921217560768127),\n",
       " ('जिसकी', 0.9921210408210754),\n",
       " ('सफाई', 0.9921186566352844),\n",
       " ('आकर्षित', 0.9921162128448486),\n",
       " ('दोस्ती', 0.9921047687530518),\n",
       " ('तरीका', 0.9921005964279175)]"
      ]
     },
     "execution_count": 34,
     "metadata": {},
     "output_type": "execute_result"
    }
   ],
   "source": [
    "model.wv.most_similar(positive=[\"एडस\"])"
   ]
  },
  {
   "cell_type": "code",
   "execution_count": 35,
   "metadata": {},
   "outputs": [],
   "source": [
    "def recommendations(question):\n",
    "    cosine_similarities = cosine_similarity(word_embeddings, word_embeddings)\n",
    "    ques = df.loc[df['Question'] == question].drop_duplicates()\n",
    "    index_val = ques.index\n",
    "    sim_scores = list(enumerate(cosine_similarities[index_val[0]]))\n",
    "    #print(sim_scores)\n",
    "    sim_scores = sorted(sim_scores, key = lambda x: x[1], reverse = True)\n",
    "    sim_scores = sim_scores[1:6]\n",
    "    print(sim_scores)\n",
    "    ques_indices = [i[0] for i in sim_scores]\n",
    "    recommend = df.iloc[ques_indices]\n",
    "    for index, row in recommend.iterrows():\n",
    "        print(row['Question'])"
   ]
  },
  {
   "cell_type": "code",
   "execution_count": 36,
   "metadata": {},
   "outputs": [
    {
     "name": "stdout",
     "output_type": "stream",
     "text": [
      "[(768, 0.9999996), (2646, 0.9999996), (3470, 0.99996984), (5339, 0.9999669), (304, 0.9999668)]\n",
      "प्रेमी ठीक से बात नही करता\n",
      "लिंग खड़ा नहीं होता है\n",
      "सेक्स के दौरान क्यों लिंग योनि से चिपकने लगता है\n",
      "गुद्दा मैथुन कैसे किया जाता है ?\n",
      "सेक्स कैसे किया जाता है ?\n"
     ]
    }
   ],
   "source": [
    "recommendations(\"प्रेमी ठीक से बात नही करता\")"
   ]
  },
  {
   "cell_type": "code",
   "execution_count": 37,
   "metadata": {},
   "outputs": [
    {
     "name": "stdout",
     "output_type": "stream",
     "text": [
      "[(1893, 1.0000002), (2904, 1.0000002), (1488, 0.99996406), (4631, 0.99996406), (4877, 0.99996406)]\n",
      "सेक्स करने में कैसा लगता है\n",
      "कॉन्डम लगाकर नाबालिग के साथ सेक्स करना क्या सही है\n",
      "किसी लड़की से बात करने पर लिंग खड़ा हो जाता है\n",
      "लिंग मोटा और बड़ा कैसे हो सकता है\n",
      "ज्यादा हस्थमैथुन करने से क्या लिंग कमजोर हो जाता है\n"
     ]
    }
   ],
   "source": [
    "recommendations(\"गर्ल-फ्रेंड बनाने के उपाय बताइये\")"
   ]
  },
  {
   "cell_type": "code",
   "execution_count": null,
   "metadata": {},
   "outputs": [],
   "source": []
  }
 ],
 "metadata": {
  "kernelspec": {
   "display_name": "Python 3",
   "language": "python",
   "name": "python3"
  },
  "language_info": {
   "codemirror_mode": {
    "name": "ipython",
    "version": 3
   },
   "file_extension": ".py",
   "mimetype": "text/x-python",
   "name": "python",
   "nbconvert_exporter": "python",
   "pygments_lexer": "ipython3",
   "version": "3.7.5"
  }
 },
 "nbformat": 4,
 "nbformat_minor": 2
}
